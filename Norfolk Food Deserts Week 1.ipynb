{
 "cells": [
  {
   "cell_type": "markdown",
   "metadata": {},
   "source": [
    "# <FONT COLOR=BLUE>FOOD DESERTS IN NORFOLK, VA</FONT>"
   ]
  },
  {
   "cell_type": "markdown",
   "metadata": {},
   "source": [
    "## INTRODUCTION\n",
    "### Norfolk, Virginia\n",
    "The following notebook is designed to explore food deserts in Norfolk, Virginia. Norfolk is a port city in southeast Virginia. It is the second most populous city, and the fourth most densely populated, in the state.\n",
    "\n",
    "### What is a food desert?\n",
    "The USDA defines a food desert as a low-income census tract where a substantial number or share of residents has low access to a supermarket or large grocery store. \n",
    "\n",
    "Only census tracts listed on the Treasury Department's New Markets Tax Credit (NMTC) qualify as low-income. \n",
    "\n",
    "Low access to a supermarket or large grocery store is defined in urban areas as a radius of more than one mile, and in rural areas as more than 10 miles. All of Norfolk is considered urban.\n",
    "\n",
    "If at least 33% or 500 people, whichever is less, in the NMTC tract have low access it is considered a food desert.\n",
    "\n",
    "### Who is interested in this information?\n",
    "Understanding the under-served communities within an area is of interest to both government planners and business leaders alike. To government planners because it helps them to identify the areas that need assistance and growth, and to business leaders because it helps them identify areas for expansion."
   ]
  },
  {
   "cell_type": "markdown",
   "metadata": {},
   "source": [
    "## DATA\n",
    "\n",
    "For this project I will be using the following data:\n",
    "\n",
    "Census tract geographical information for the Norfolk, VA. This was available from hrgeo.org which is a geospatial exchange for Hampton Roads. Hampton Roads is the geographical region which includes Norfolk.\n",
    "\n",
    "NMTC identified low-income areas. This data was available from cdfifund.gov. \n",
    "\n",
    "Residential addresses in Norfolk. This was available from data.norfolk.gov.\n",
    "\n",
    "Grocery store locations. foursquare.com api will be used to gather this info. I will use the center point of the census tract as the center point for the foursquare search."
   ]
  },
  {
   "cell_type": "code",
   "execution_count": null,
   "metadata": {},
   "outputs": [],
   "source": []
  }
 ],
 "metadata": {
  "kernelspec": {
   "display_name": "Python",
   "language": "python",
   "name": "conda-env-python-py"
  },
  "language_info": {
   "codemirror_mode": {
    "name": "ipython",
    "version": 3
   },
   "file_extension": ".py",
   "mimetype": "text/x-python",
   "name": "python",
   "nbconvert_exporter": "python",
   "pygments_lexer": "ipython3",
   "version": "3.6.10"
  }
 },
 "nbformat": 4,
 "nbformat_minor": 4
}
